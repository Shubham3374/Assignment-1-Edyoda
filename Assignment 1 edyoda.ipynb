{
 "cells": [
  {
   "cell_type": "markdown",
   "metadata": {},
   "source": [
    "## Write a Python program to get the Fibonacci series between 0 to 50 ?"
   ]
  },
  {
   "cell_type": "code",
   "execution_count": 13,
   "metadata": {},
   "outputs": [
    {
     "name": "stdout",
     "output_type": "stream",
     "text": [
      "Enter the number : 8\n",
      "0\n",
      "1\n",
      "1\n",
      "2\n",
      "3\n",
      "5\n",
      "8\n",
      "13\n",
      "21\n",
      "34\n"
     ]
    }
   ],
   "source": [
    "x = int(input(\"Enter the number : \"))\n",
    "num1 = 0\n",
    "num2 = 1\n",
    "print(num1)\n",
    "print(num2)\n",
    "\n",
    "for i in range(x):\n",
    "    c = num1 + num2\n",
    "    num1 = num2\n",
    "    num2 = c\n",
    "    print(c)"
   ]
  },
  {
   "cell_type": "markdown",
   "metadata": {},
   "source": [
    "## Write a Python program that accepts a word from the user and reverse it."
   ]
  },
  {
   "cell_type": "code",
   "execution_count": 5,
   "metadata": {},
   "outputs": [
    {
     "name": "stdout",
     "output_type": "stream",
     "text": [
      "Enter the word : Edyoda\n",
      "adoydE\n"
     ]
    }
   ],
   "source": [
    "my_string = input(\"Enter the word : \")\n",
    "\n",
    "\n",
    "\n",
    "print(my_string[-1::-1])\n",
    "\n"
   ]
  },
  {
   "cell_type": "markdown",
   "metadata": {},
   "source": [
    "## Write a Python program to count the number of even and odd numbers from a series of numbers."
   ]
  },
  {
   "cell_type": "code",
   "execution_count": 14,
   "metadata": {},
   "outputs": [
    {
     "name": "stdout",
     "output_type": "stream",
     "text": [
      " Total Even Numbers  4\n",
      " Total Odd Numbers  5\n"
     ]
    }
   ],
   "source": [
    "a = [1 , 2 , 3 , 4 , 5 , 6 , 7 , 8 , 9]\n",
    "even_count = 0\n",
    "odd_count = 0\n",
    "\n",
    "for x in (a):\n",
    "    if x%2 == 0:\n",
    "        even_count += 1\n",
    "    else :\n",
    "        odd_count += 1\n",
    "        \n",
    "print(\" Total Even Numbers \" , even_count)\n",
    "print(\" Total Odd Numbers \" , odd_count)"
   ]
  }
 ],
 "metadata": {
  "kernelspec": {
   "display_name": "Python 3",
   "language": "python",
   "name": "python3"
  },
  "language_info": {
   "codemirror_mode": {
    "name": "ipython",
    "version": 3
   },
   "file_extension": ".py",
   "mimetype": "text/x-python",
   "name": "python",
   "nbconvert_exporter": "python",
   "pygments_lexer": "ipython3",
   "version": "3.7.0"
  }
 },
 "nbformat": 4,
 "nbformat_minor": 2
}
